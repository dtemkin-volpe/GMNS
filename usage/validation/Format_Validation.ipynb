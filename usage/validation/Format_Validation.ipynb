{
 "cells": [
  {
   "cell_type": "markdown",
   "id": "7da66276",
   "metadata": {},
   "source": [
    "# GMNS Format Validation for networks stored as CSV files\n",
    "\n",
    "This notebook demonstrates validation for whether a GMNS network conforms to the schema.\n",
    "It uses a modified version of [GMNSpy](https://github.com/e-lo/GMNSpy), originally developed by Elizabeth Sall.\n",
    "\n",
    "The first time you run this notebook after cloning this repo, you may need to run the following commands to update and install the working copy of `gmnspy`:"
   ]
  },
  {
   "cell_type": "code",
   "execution_count": 2,
   "id": "71c88112",
   "metadata": {
    "tags": []
   },
   "outputs": [
    {
     "name": "stdout",
     "output_type": "stream",
     "text": [
      "Processing c:\\users\\ian.berg\\documents\\github\\gmns\\validation_tools\\gmnspy\n",
      "  Installing build dependencies: started\n",
      "  Installing build dependencies: finished with status 'done'\n",
      "  Getting requirements to build wheel: started\n",
      "  Getting requirements to build wheel: finished with status 'done'\n",
      "  Preparing metadata (pyproject.toml): started\n",
      "  Preparing metadata (pyproject.toml): finished with status 'done'\n",
      "Requirement already satisfied: pandas>=1.0 in c:\\users\\ian.berg\\appdata\\local\\continuum\\anaconda3\\envs\\py39_env\\lib\\site-packages (from gmnspy==0.0.3) (1.5.1)\n",
      "Requirement already satisfied: python-dateutil>=2.8.1 in c:\\users\\ian.berg\\appdata\\local\\continuum\\anaconda3\\envs\\py39_env\\lib\\site-packages (from pandas>=1.0->gmnspy==0.0.3) (2.8.2)\n",
      "Requirement already satisfied: numpy>=1.20.3 in c:\\users\\ian.berg\\appdata\\local\\continuum\\anaconda3\\envs\\py39_env\\lib\\site-packages (from pandas>=1.0->gmnspy==0.0.3) (1.23.4)\n",
      "Requirement already satisfied: pytz>=2020.1 in c:\\users\\ian.berg\\appdata\\local\\continuum\\anaconda3\\envs\\py39_env\\lib\\site-packages (from pandas>=1.0->gmnspy==0.0.3) (2022.6)\n",
      "Requirement already satisfied: six>=1.5 in c:\\users\\ian.berg\\appdata\\local\\continuum\\anaconda3\\envs\\py39_env\\lib\\site-packages (from python-dateutil>=2.8.1->pandas>=1.0->gmnspy==0.0.3) (1.16.0)\n",
      "Building wheels for collected packages: gmnspy\n",
      "  Building wheel for gmnspy (pyproject.toml): started\n",
      "  Building wheel for gmnspy (pyproject.toml): finished with status 'done'\n",
      "  Created wheel for gmnspy: filename=gmnspy-0.0.3-py3-none-any.whl size=41526 sha256=7cdb7b7a2a54a1c4f8e378b59229f97b682058c33212e9558d886927193efb4e\n",
      "  Stored in directory: C:\\Users\\ian.berg\\AppData\\Local\\Temp\\pip-ephem-wheel-cache-bhz69tu7\\wheels\\ce\\a1\\9b\\83840c9048712fe5979bd021f40235c3256131f3e6e750da89\n",
      "Successfully built gmnspy\n",
      "Installing collected packages: gmnspy\n",
      "  Attempting uninstall: gmnspy\n",
      "    Found existing installation: gmnspy 0.0.2\n",
      "    Uninstalling gmnspy-0.0.2:\n",
      "      Successfully uninstalled gmnspy-0.0.2\n",
      "Successfully installed gmnspy-0.0.3\n"
     ]
    }
   ],
   "source": [
    "!git submodule update --init --recursive --remote --merge\n",
    "# if you don't have command-line git, instead download this zip file: \n",
    "# https://github.com/zephyr-data-specs/GMNSpy/archive/refs/heads/master.zip\n",
    "# and extract the contents of the `GMNSpy-master` folder in that zip archive\n",
    "# into the folder named `gmnspy` in the same directory as this notebook.\n",
    "\n",
    "!pip install ./gmnspy"
   ]
  },
  {
   "cell_type": "markdown",
   "id": "18688adb",
   "metadata": {},
   "source": [
    "## Inputs\n",
    "GMNSpy takes CSV files as inputs for the network. Place all network files in a single directory. \n",
    "\n",
    "The validation constraints are checked using a set of JSON files. `gmns.spec.json` provides information about required files and paths to the JSON definition for each table. Each table has its own `.schema.json` file which defines required fields and field constraints. These may be edited to meet a user's specific needs (e.g., to add user-defined fields, or to relax constraints).\n",
    "\n",
    "## Outputs\n",
    "Reading a GMNS network using the command below checks the set of files in the `data_directory` against the spec defined by `config`. The script currently performs the following checks:\n",
    "- Checks whether the required tables, as defined in `gmns.spec.json`, are present.\n",
    "- Checks each file in the `data_directory` whose name matches one defined in the spec with its associated `.schema.json` file. The following checks are performed:\n",
    "    - whether any required fields are missing (report a FAIL message if so). \n",
    "    - whether any fields outside the spec are present (report a WARN message if so).\n",
    "    - whether the values present in each field have the same datatype (integer, number, boolean, string) as required by the spec (report a FAIL message if so).\n",
    "    - whether any required fields have missing values (report a FAIL message if so).\n",
    "    - whether the primary key field has any duplicate values (report a FAIL message if so).\n",
    "    - whether any values in fields with strict constraints (minimum, maximum, enum) fall outside of those constraints (report a FAIL message if so).\n",
    "    - whether any values in fields with warning constraints (minimum, maximum) fall outside of those constraints (report a WARN message if so).\n",
    "- Checks the foreign keys specified in each table. The following checks are performed:\n",
    "    - whether the foreign key specified exists on the reference table (report a FAIL message if not).\n",
    "    - whether the foreign key specified has unique values on the reference table (report a FAIL message if not).\n",
    "    - whether all values of the foreign key contained in a source table exist on the reference table (report a FAIL message if not)."
   ]
  },
  {
   "cell_type": "markdown",
   "id": "37c0b7a7-1a23-43c8-b7b0-7c1ad27dafbf",
   "metadata": {},
   "source": [
    "Here's an example of a \"good\" dataset (no `FAIL` messages, and reviewing the `WARN` messages reveals no issues)."
   ]
  },
  {
   "cell_type": "code",
   "execution_count": 1,
   "id": "e27e1ac1",
   "metadata": {},
   "outputs": [],
   "source": [
    "import gmnspy\n",
    "out = gmnspy.in_out.read_gmns_network(data_directory = \"../Small_Network_Examples/Arlington_Signals\", config = \"../Specification/gmns.spec.json\")"
   ]
  },
  {
   "cell_type": "markdown",
   "id": "2b0c94b5-121d-42a8-ac04-8f1d00c1c8e1",
   "metadata": {},
   "source": [
    "This example shows the same dataset, but with some errors introduced."
   ]
  },
  {
   "cell_type": "code",
   "execution_count": 4,
   "id": "bdfb7431",
   "metadata": {
    "tags": []
   },
   "outputs": [],
   "source": [
    "import gmnspy\n",
    "out = gmnspy.in_out.read_gmns_network(data_directory = \"../Small_Network_Examples/Arlington_Signals_Errors\", config = \"../Specification/gmns.spec.json\")"
   ]
  },
  {
   "cell_type": "code",
   "execution_count": 5,
   "id": "62548acd-31ad-4b9b-b55a-b5c8ddca94e9",
   "metadata": {},
   "outputs": [
    {
     "data": {
      "text/plain": [
       "'C:\\\\Users\\\\IAN~1.BER\\\\AppData\\\\Local\\\\Temp'"
      ]
     },
     "execution_count": 5,
     "metadata": {},
     "output_type": "execute_result"
    }
   ],
   "source": [
    "# To find the logging output, look for `gmnspy.log` in the tempdir\n",
    "\n",
    "import tempfile\n",
    "tempfile.gettempdir()"
   ]
  },
  {
   "cell_type": "code",
   "execution_count": null,
   "id": "18a43002-54ee-4a8d-9659-9b47458e8f3e",
   "metadata": {},
   "outputs": [],
   "source": []
  }
 ],
 "metadata": {
  "kernelspec": {
   "display_name": "Python 3 (ipykernel)",
   "language": "python",
   "name": "python3"
  },
  "language_info": {
   "codemirror_mode": {
    "name": "ipython",
    "version": 3
   },
   "file_extension": ".py",
   "mimetype": "text/x-python",
   "name": "python",
   "nbconvert_exporter": "python",
   "pygments_lexer": "ipython3",
   "version": "3.9.13"
  }
 },
 "nbformat": 4,
 "nbformat_minor": 5
}
