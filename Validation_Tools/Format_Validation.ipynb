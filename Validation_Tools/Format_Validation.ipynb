{
 "cells": [
  {
   "cell_type": "code",
   "execution_count": 1,
   "id": "2a06d84a-abf0-4a4f-96c5-0c1bf5127b43",
   "metadata": {
    "collapsed": true,
    "jupyter": {
     "outputs_hidden": true
    },
    "tags": []
   },
   "outputs": [
    {
     "name": "stdout",
     "output_type": "stream",
     "text": [
      "Updating 226d067..7cf086d\n",
      "Fast-forward\n",
      " gmnspy/validate.py    | 39 +++++++++++++++++++++++----------------\n",
      " spec/node.schema.json |  7 ++-----\n",
      " 2 files changed, 25 insertions(+), 21 deletions(-)\n",
      "Submodule path 'GMNSpy': merged in '7cf086d3c71d438faf3f31fff28ba32f93680930'\n"
     ]
    },
    {
     "name": "stderr",
     "output_type": "stream",
     "text": [
      "From https://github.com/ianberg-volpe/GMNSpy\n",
      "   a1d3661..7cf086d  hide_output -> origin/hide_output\n"
     ]
    },
    {
     "name": "stdout",
     "output_type": "stream",
     "text": [
      "Processing c:\\users\\ian.berg\\documents\\github\\gmns\\validation_tools\\gmnspy\n",
      "Requirement already satisfied: pandas>=1.0 in c:\\users\\ian.berg\\appdata\\local\\continuum\\anaconda3\\envs\\wrangler_env\\lib\\site-packages (from gmnspy==0.0.2) (1.3.0)\n",
      "Requirement already satisfied: tabulate in c:\\users\\ian.berg\\appdata\\local\\continuum\\anaconda3\\envs\\wrangler_env\\lib\\site-packages (from gmnspy==0.0.2) (0.8.9)\n",
      "Requirement already satisfied: graphviz in c:\\users\\ian.berg\\appdata\\local\\continuum\\anaconda3\\envs\\wrangler_env\\lib\\site-packages (from gmnspy==0.0.2) (0.17)\n",
      "Requirement already satisfied: networkx in c:\\users\\ian.berg\\appdata\\local\\continuum\\anaconda3\\envs\\wrangler_env\\lib\\site-packages (from gmnspy==0.0.2) (2.5.1)\n",
      "Requirement already satisfied: pytz>=2017.3 in c:\\users\\ian.berg\\appdata\\local\\continuum\\anaconda3\\envs\\wrangler_env\\lib\\site-packages (from pandas>=1.0->gmnspy==0.0.2) (2021.1)\n",
      "Requirement already satisfied: numpy>=1.17.3 in c:\\users\\ian.berg\\appdata\\local\\continuum\\anaconda3\\envs\\wrangler_env\\lib\\site-packages (from pandas>=1.0->gmnspy==0.0.2) (1.21.1)\n",
      "Requirement already satisfied: python-dateutil>=2.7.3 in c:\\users\\ian.berg\\appdata\\local\\continuum\\anaconda3\\envs\\wrangler_env\\lib\\site-packages (from pandas>=1.0->gmnspy==0.0.2) (2.8.2)\n",
      "Requirement already satisfied: six>=1.5 in c:\\users\\ian.berg\\appdata\\local\\continuum\\anaconda3\\envs\\wrangler_env\\lib\\site-packages (from python-dateutil>=2.7.3->pandas>=1.0->gmnspy==0.0.2) (1.16.0)\n",
      "Requirement already satisfied: decorator<5,>=4.3 in c:\\users\\ian.berg\\appdata\\local\\continuum\\anaconda3\\envs\\wrangler_env\\lib\\site-packages (from networkx->gmnspy==0.0.2) (4.4.2)\n",
      "Building wheels for collected packages: gmnspy\n",
      "  Building wheel for gmnspy (setup.py): started\n",
      "  Building wheel for gmnspy (setup.py): finished with status 'done'\n",
      "  Created wheel for gmnspy: filename=gmnspy-0.0.2-py3-none-any.whl size=14127 sha256=dee5e621cbabe79348a9fb84e5ad5cdee677137c32cecf53e19543dd6d26254f\n",
      "  Stored in directory: C:\\Users\\IAN~1.BER\\AppData\\Local\\Temp\\pip-ephem-wheel-cache-fu5bppyd\\wheels\\16\\ce\\e4\\83c0d7daf4848db064f66098d1596c60eff5542f61b4a3fda1\n",
      "Successfully built gmnspy\n",
      "Installing collected packages: gmnspy\n",
      "  Attempting uninstall: gmnspy\n",
      "    Found existing installation: gmnspy 0.0.2\n",
      "    Uninstalling gmnspy-0.0.2:\n",
      "      Successfully uninstalled gmnspy-0.0.2\n",
      "Successfully installed gmnspy-0.0.2\n"
     ]
    }
   ],
   "source": [
    "# if you cloned this repo, update the working copy of gmnspy with this command:\n",
    "!git submodule update --init --recursive --remote --merge\n",
    "# if you don't have command-line git, download the files from here and put them in the GMNSpy subfolder:\n",
    "# https://github.com/ianberg-volpe/GMNSpy/tree/hide_output\n",
    "\n",
    "!pip install ./gmnspy"
   ]
  },
  {
   "cell_type": "code",
   "execution_count": 2,
   "id": "2fdb8e85-2c11-40a6-8099-f3147803ff7c",
   "metadata": {},
   "outputs": [
    {
     "name": "stdout",
     "output_type": "stream",
     "text": [
      "Found following files to define network: \n",
      " - link\n",
      " - node\n",
      " - lane\n",
      " - location\n",
      " - movement\n",
      " - segment\n",
      " - segment_lane\n",
      " - signal_controller\n",
      " - signal_coordination\n",
      " - signal_phase_mvmt\n",
      " - signal_timing_plan\n",
      " - signal_timing_phase\n",
      " - signal_detector\n",
      "SCHEMA gmnspy/spec\\link.schema.json\n",
      "...validating ../Small_Network_Examples/Arlington_Signals\\link.csv against gmnspy/spec\\link.schema.json\n",
      "Passed field type coercion\n",
      "FAIL. bike_facility field has errors. [\"Values: ['shared_use_path'] not in enumerated list: ['unknown', 'none', 'wcl', 'sharrow', 'bikelane', 'cycletrack', 'offstreet path'] \\n Index of row(s) with bad values: [0, 1, 12, 13]\"]\n",
      "FAIL. ped_facility field has errors. [\"Values: ['shared_use_path'] not in enumerated list: ['unknown', 'none', 'shoulder', 'sidewalk', 'offstreet path'] \\n Index of row(s) with bad values: [0, 1, 12, 13]\"]\n",
      "WARN. row_width field has warnings. ['Values lower than minimum: 10 \\n Index of row(s) with bad values: [14, 15, 18, 19, 21]']\n",
      "SCHEMA gmnspy/spec\\node.schema.json\n",
      "...validating ../Small_Network_Examples/Arlington_Signals\\node.csv against gmnspy/spec\\node.schema.json\n",
      "Passed field type coercion\n",
      "Passed Field Required Constraint Validation\n",
      "No Field Warnings\n",
      "SCHEMA gmnspy/spec\\lane.schema.json\n",
      "...validating ../Small_Network_Examples/Arlington_Signals\\lane.csv against gmnspy/spec\\lane.schema.json\n",
      "Passed field type coercion\n",
      "FAIL. r_barrier field has errors. [\"Values: ['curb'] not in enumerated list: ['none', 'regulatory', 'physical'] \\n Index of row(s) with bad values: [8]\"]\n",
      "No Field Warnings\n",
      "SCHEMA gmnspy/spec\\location.schema.json\n",
      "...validating ../Small_Network_Examples/Arlington_Signals\\location.csv against gmnspy/spec\\location.schema.json\n",
      "WARN. Extra fields outside of spec: {'opt_walk_link'}\n",
      "Passed field type coercion\n",
      "FAIL. lr field has errors. ['Values lower than minimum: 0 \\n Index of row(s) with bad values: [0, 1, 2, 3, 4]']\n",
      "No Field Warnings\n",
      "SCHEMA gmnspy/spec\\movement.schema.json\n",
      "...validating ../Small_Network_Examples/Arlington_Signals\\movement.csv against gmnspy/spec\\movement.schema.json\n",
      "WARN. Extra fields outside of spec: {'opt_note'}\n",
      "Passed field type coercion\n",
      "Passed Field Required Constraint Validation\n",
      "No Field Warnings\n",
      "SCHEMA gmnspy/spec\\segment.schema.json\n",
      "...validating ../Small_Network_Examples/Arlington_Signals\\segment.csv against gmnspy/spec\\segment.schema.json\n",
      "WARN. Extra fields outside of spec: {'opt_comment'}\n",
      "Passed field type coercion\n",
      "Passed Field Required Constraint Validation\n",
      "No Field Warnings\n",
      "SCHEMA gmnspy/spec\\segment_lane.schema.json\n",
      "...validating ../Small_Network_Examples/Arlington_Signals\\segment_lane.csv against gmnspy/spec\\segment_lane.schema.json\n",
      "WARN. Extra fields outside of spec: {'opt_comment'}\n",
      "Passed field type coercion\n",
      "Passed Field Required Constraint Validation\n",
      "No Field Warnings\n",
      "SCHEMA gmnspy/spec\\signal_controller.schema.json\n",
      "...validating ../Small_Network_Examples/Arlington_Signals\\signal_controller.csv against gmnspy/spec\\signal_controller.schema.json\n",
      "Passed field type coercion\n",
      "Passed Field Required Constraint Validation\n",
      "No Field Warnings\n",
      "SCHEMA gmnspy/spec\\signal_coordination.schema.json\n",
      "...validating ../Small_Network_Examples/Arlington_Signals\\signal_coordination.csv against gmnspy/spec\\signal_coordination.schema.json\n",
      "Passed field type coercion\n",
      "Passed Field Required Constraint Validation\n",
      "No Field Warnings\n",
      "SCHEMA gmnspy/spec\\signal_phase_mvmt.schema.json\n",
      "...validating ../Small_Network_Examples/Arlington_Signals\\signal_phase_mvmt.csv against gmnspy/spec\\signal_phase_mvmt.schema.json\n",
      "Passed field type coercion\n",
      "Passed Field Required Constraint Validation\n",
      "No Field Warnings\n",
      "SCHEMA gmnspy/spec\\signal_timing_plan.schema.json\n",
      "...validating ../Small_Network_Examples/Arlington_Signals\\signal_timing_plan.csv against gmnspy/spec\\signal_timing_plan.schema.json\n",
      "WARN. Extra fields outside of spec: {'time_day_id', 'opt_comment'}\n",
      "Passed field type coercion\n",
      "Passed Field Required Constraint Validation\n",
      "No Field Warnings\n",
      "SCHEMA gmnspy/spec\\signal_timing_phase.schema.json\n",
      "...validating ../Small_Network_Examples/Arlington_Signals\\signal_timing_phase.csv against gmnspy/spec\\signal_timing_phase.schema.json\n",
      "WARN. Extra fields outside of spec: {'opt_comment'}\n",
      "Passed field type coercion\n",
      "Passed Field Required Constraint Validation\n",
      "No Field Warnings\n",
      "SCHEMA gmnspy/spec\\signal_detector.schema.json\n",
      "...validating ../Small_Network_Examples/Arlington_Signals\\signal_detector.csv against gmnspy/spec\\signal_detector.schema.json\n",
      "Passed field type coercion\n",
      "Passed Field Required Constraint Validation\n",
      "No Field Warnings\n",
      "FKEYS:  [('parent_link_id', '.link_id'), ('from_node_id', 'node.node_id'), ('to_node_id', 'node.node_id'), ('geometry_id', 'geometry.geometry_id')]\n",
      "FAIL. geometry_id field in table geometry does not exist\n",
      "FKEYS:  [('zone_id', 'zone.zone_id'), ('parent_node_id', '.node_id')]\n",
      "FAIL. zone_id field in table zone does not exist\n",
      "FKEYS:  [('link_id', 'link.link_id')]\n",
      "FKEYS:  [('link_id', 'link.link_id'), ('ref_node_id', 'node.node_id')]\n",
      "FKEYS:  [('node_id', 'node.node_id'), ('ib_link_id', 'link.link_id'), ('ob_link_id', 'link.link_id')]\n",
      "FKEYS:  [('link_id', 'link.link_id'), ('ref_node_id', 'node.node_id')]\n",
      "FKEYS:  [('segment_id', 'segment.segment_id')]\n",
      "FKEYS:  []\n",
      "FKEYS:  [('timing_plan_id', 'signal_timing_plan.timing_plan_id'), ('controller_id', 'signal_controller.controller_id'), ('coord_contr_id', 'signal_controller.controller_id')]\n",
      "FKEYS:  [('controller_id', 'signal_controller.controller_id'), ('mvmt_id', 'movement.mvmt_id'), ('link_id', 'link.link_id')]\n",
      "FKEYS:  [('controller_id', 'signal_controller.controller_id')]\n",
      "FKEYS:  [('timing_plan_id', 'signal_timing_plan.timing_plan_id')]\n",
      "FKEYS:  [('controller_id', 'signal_controller.controller_id'), ('link_id', 'link.link_id'), ('ref_node_id', 'node.node_id')]\n"
     ]
    }
   ],
   "source": [
    "import gmnspy\n",
    "\n",
    "out = gmnspy.in_out.read_gmns_network(\"../Small_Network_Examples/Arlington_Signals\", config = \"gmnspy/spec/gmns.spec.json\")"
   ]
  },
  {
   "cell_type": "code",
   "execution_count": null,
   "id": "bd54b134-d6a3-4d22-9c97-390228076d75",
   "metadata": {},
   "outputs": [],
   "source": []
  }
 ],
 "metadata": {
  "kernelspec": {
   "display_name": "Python 3",
   "language": "python",
   "name": "python3"
  },
  "language_info": {
   "codemirror_mode": {
    "name": "ipython",
    "version": 3
   },
   "file_extension": ".py",
   "mimetype": "text/x-python",
   "name": "python",
   "nbconvert_exporter": "python",
   "pygments_lexer": "ipython3",
   "version": "3.7.7"
  }
 },
 "nbformat": 4,
 "nbformat_minor": 5
}
